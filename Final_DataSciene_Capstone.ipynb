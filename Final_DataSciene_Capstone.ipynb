{
 "cells": [
  {
   "cell_type": "markdown",
   "metadata": {},
   "source": [
    "# Capstone Project: The Battle of Neighborhoods "
   ]
  },
  {
   "cell_type": "markdown",
   "metadata": {},
   "source": [
    "## Introduction"
   ]
  },
  {
   "cell_type": "markdown",
   "metadata": {},
   "source": [
    "Traveling to new places is always an adventure. To make use of the time when travelling is always good to research for a place to leave prior to travelling so that you can have a better experience. For those of us who love shopping it is always essential to locate places that are surrounded with amenities. Therefore, this capstone project aims at assisting travellers or people who are moving to new places to identify places close to amenities of their interest. To contextualize the project, we are introducing Ruth, 18 years old from East Africa, who is planning to travel to New York City. Ruth loves shopping and spending time at cafes reading books. However, Ruth has a limited budget so she is looking for places that are cheap to move in."
   ]
  },
  {
   "cell_type": "markdown",
   "metadata": {},
   "source": [
    "### Business Problem"
   ]
  },
  {
   "cell_type": "markdown",
   "metadata": {},
   "source": [
    "In this capstone project we are looking for a borough in New York city for Ruth. The borough should include apartments to live with prices $500,000 or lower. The apartments should be surrounded with amenities such as cafes and shopping centres."
   ]
  },
  {
   "cell_type": "markdown",
   "metadata": {},
   "source": [
    "## Data"
   ]
  },
  {
   "cell_type": "markdown",
   "metadata": {},
   "source": [
    "I will use a foursquare dataset for the location of shopping centers and cafes in Newyork City. In addition to that I will use price data which I obtained from Kaggle which contains  apartments sold in the past 12 months. Therefore, the combination of the two dataset will be used to create some maps to locate apartments in the area and their surrounding amenities.  Therefore, anyone interested in moving to New York City can make a decision based on their budget. Apartments will be displayed with their prices. We plan to limit apartments of which cost $500,000 and below.\n",
    " \n"
   ]
  },
  {
   "cell_type": "code",
   "execution_count": null,
   "metadata": {},
   "outputs": [],
   "source": []
  }
 ],
 "metadata": {
  "kernelspec": {
   "display_name": "Python 3",
   "language": "python",
   "name": "python3"
  },
  "language_info": {
   "codemirror_mode": {
    "name": "ipython",
    "version": 3
   },
   "file_extension": ".py",
   "mimetype": "text/x-python",
   "name": "python",
   "nbconvert_exporter": "python",
   "pygments_lexer": "ipython3",
   "version": "3.7.6"
  }
 },
 "nbformat": 4,
 "nbformat_minor": 4
}
